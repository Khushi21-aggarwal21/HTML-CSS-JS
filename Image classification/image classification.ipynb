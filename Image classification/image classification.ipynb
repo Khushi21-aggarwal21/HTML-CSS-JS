import tensorflow as tf
from tensorflow import keras
import numpy as np
import pandas as pd
import matplotlib.pyplot as plt
import seaborn as sns
%matplotlib inline
#Loading fashion_mnist dataset
fashion_mnist = keras.datasets.fashion_mnist
(x_train,y_train) , (x_test,y_test)=fashion_mnist.load_data()
#training data shape
x_train.shape
#output data shape
y_train.shape
y_train[:10]
#first index of training data 
x_train[0]

#plotting the first index of training data
plt.matshow(x_train[0],cmap=plt.cm.binary)
#checking output data
y_train[0]
#### As the output data is an array of integer values, we need to label the class with suitable names of the item respectively
#labeling class names in output
class_names=['T-shirt/top', 'Trouser', 'Pullover', 'Dress', 'Coat',
               'Sandal', 'Shirt', 'Sneaker', 'Bag', 'Ankle boot']
#function to plot image of single item 
def plot_sample(x,y,index):
  plt.figure(figsize=(10,4))
  plt.matshow(x[index],cmap=plt.cm.binary)
  plt.xlabel(class_names[y[index]],fontsize=16)
# plotting image from training data
plot_sample(x_train,y_train,0)
#plotting training data 
plt.figure(figsize=(16,14))
for i in range(25):
    plt.subplot(5,5,i+1)
    plt.xticks([])
    plt.yticks([])
    plt.grid(False)
    plt.imshow(x_train[i], cmap=plt.cm.binary)
    plt.xlabel(class_names[y_train[i]],fontsize=12)
plt.show()
#scaling values between 0 to 1
x_train=x_train/255.0
x_test=x_test/255.0
#setting up layers
model = keras.Sequential([
    keras.layers.Flatten(input_shape=(28, 28)),
    keras.layers.Dense(128, activation='relu'),
    keras.layers.Dense(10)
])
#compiling the model
model.compile(optimizer='adam',
              loss=tf.keras.losses.SparseCategoricalCrossentropy(from_logits=True),
              metrics=['accuracy'])
#fitting the model
model.fit(x_train,y_train,epochs=10)
#evaluating accuracy
loss, accuracy = model.evaluate(x_test,  y_test)
print('\nTest accuracy: ',accuracy)
#predicting the testing values
probability_model = tf.keras.Sequential([model, 
                                         tf.keras.layers.Softmax()])
y_pred = probability_model.predict(x_test)
#all predicted values in form of an array
y_pred
### Plotting an item randomly to check our predictions
#function for plotting predicted image
def plot_image(i, predictions_array, true_label, img):
  true_label, img = true_label[i], img[i]
  plt.grid(False)
  plt.xticks([])
  plt.yticks([])

  plt.imshow(img, cmap=plt.cm.binary)

  predicted_label = np.argmax(predictions_array)
  if predicted_label == true_label:
    color = 'blue'
  else:
    color = 'red'

  plt.xlabel("{} {:2.0f}% ({})".format(class_names[predicted_label],
                                100*np.max(predictions_array),
                                class_names[true_label]),
                                color=color)

def plot_value_array(i, predictions_array, true_label):
  true_label = true_label[i]
  plt.grid(False)
  plt.xticks(range(10))
  plt.yticks([])
  thisplot = plt.bar(range(10), predictions_array, color="#777777")
  plt.ylim([0, 1])
  predicted_label = np.argmax(predictions_array)

  thisplot[predicted_label].set_color('red')
  thisplot[true_label].set_color('blue')
x_test.shape
#plotting image from training data and predicting image
i = 0
plt.figure(figsize=(6,3))
plt.subplot(1,2,1)
plot_image(i, y_pred[i], y_test, x_test)
plt.subplot(1,2,2)
plot_value_array(i, y_pred[i],  y_test)
plt.show()
#The item is predicted to be at the 9th index of the output array
y_class_names=[np.argmax(i) for i in y_pred]
y_class_names[0]                              
### Thus, this prediction is correct
#Checking the label name
class_names[y_class_names[0]]
### Predicting first 25 items
# The first X test images, their predicted labels, and the true labels.
# Correct predictions are in blue and incorrect predictions in red.
num_rows = 5
num_cols = 4
num_images = num_rows*num_cols
plt.figure(figsize=(2*2*num_cols, 2*num_rows))
for i in range(num_images):
  plt.subplot(num_rows, 2*num_cols, 2*i+1)
  plot_image(i, y_pred[i], y_test, x_test)
  plt.subplot(num_rows, 2*num_cols, 2*i+2)
  plot_value_array(i, y_pred[i], y_test)
plt.tight_layout()
plt.show()
### Items predicted at indexes respectively
for i in range(25):
  print(y_class_names[i])
### Out of 25 predictions we got 23 correct ones... with 88% accuracy
#checking label names
for i in range(25):
  print(class_names[y_class_names[i]])
from sklearn.metrics import classification_report,confusion_matrix
#classification report
print('\n Classification Report: \n',classification_report(y_test,y_class_names))
cm=tf.math.confusion_matrix(labels=y_test,predictions=y_class_names)
#confusion matrix
plt.figure(figsize = (10,7))
sns.heatmap(cm, annot=True, fmt='d')
plt.xlabel('Predicted')
plt.ylabel('Truth')
